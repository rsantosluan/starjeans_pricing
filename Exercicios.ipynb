{
 "cells": [
  {
   "cell_type": "markdown",
   "metadata": {},
   "source": [
    "# Módulo 03 - Exercícios práticos"
   ]
  },
  {
   "cell_type": "markdown",
   "metadata": {},
   "source": [
    "## Crisp"
   ]
  },
  {
   "cell_type": "markdown",
   "metadata": {},
   "source": [
    "### 1. Leitura proposta \"Data Science para Negócio\"  "
   ]
  },
  {
   "cell_type": "markdown",
   "metadata": {},
   "source": [
    "    - Capítulo 02 - Problemas de Negócio e Soluções de Data Science.\n",
    "    - PDF \"Journal of DataWarehousing\""
   ]
  },
  {
   "cell_type": "markdown",
   "metadata": {},
   "source": [
    "#### 1.1 Entregável:"
   ]
  },
  {
   "cell_type": "markdown",
   "metadata": {},
   "source": [
    "    -Escrever resumo do capítulo 02 sobre o método CRISP.\n",
    "    - Anotar dúvidas, questões, curiosidades."
   ]
  },
  {
   "cell_type": "markdown",
   "metadata": {},
   "source": [
    "## Método SAPE"
   ]
  },
  {
   "cell_type": "markdown",
   "metadata": {},
   "source": [
    "### 2. Usar método SAPE para quebrar as seguintes perguntas de negócio:"
   ]
  },
  {
   "cell_type": "markdown",
   "metadata": {},
   "source": [
    "    -Quantos tipos de calça e suas cores para o produto final.\n",
    "    -Quais as matérias-primas necessárias para confeccionar as calças."
   ]
  },
  {
   "cell_type": "markdown",
   "metadata": {},
   "source": [
    "#### 2.1 Entregáveis"
   ]
  },
  {
   "cell_type": "markdown",
   "metadata": {},
   "source": [
    "    - Faça um plano escrito para cada uma das perguntas de negócio contendo:\n",
    "        - Saída: Simulação da tabela e gráfico final.\n",
    "        - Processo: A sequência de passos organizada pela lógica de execução.\n",
    "        - Entrada: Link para as fontes de dados."
   ]
  },
  {
   "cell_type": "markdown",
   "metadata": {},
   "source": [
    "## Modelo de negócio"
   ]
  },
  {
   "cell_type": "markdown",
   "metadata": {},
   "source": [
    "### 3. Leitura dos arquivos em PDF:"
   ]
  },
  {
   "cell_type": "markdown",
   "metadata": {},
   "source": [
    "    - Capítulos: 04,05,06,07,08 do livro: Lean Analytics"
   ]
  }
 ],
 "metadata": {
  "language_info": {
   "name": "python"
  },
  "orig_nbformat": 4
 },
 "nbformat": 4,
 "nbformat_minor": 2
}
